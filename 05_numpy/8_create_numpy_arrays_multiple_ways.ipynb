{
 "cells": [
  {
   "cell_type": "markdown",
   "id": "9d9ef671-421d-4175-8cc4-2f3e47a77d48",
   "metadata": {},
   "source": [
    "### 1. Create numpy arrays using arange and zeroes fnctions of numpy:"
   ]
  },
  {
   "cell_type": "code",
   "execution_count": 1,
   "id": "71eb8b14-cf17-4ce0-8cc3-4ff7bb248214",
   "metadata": {},
   "outputs": [],
   "source": [
    "import numpy as np"
   ]
  },
  {
   "cell_type": "code",
   "execution_count": 2,
   "id": "832da7e4-2010-46c0-8a2e-b3ad3d345ad9",
   "metadata": {},
   "outputs": [
    {
     "name": "stdout",
     "output_type": "stream",
     "text": [
      "Create a 1-D numpy array of first 4 integers : \n",
      "        [1 2 3 4]\n"
     ]
    }
   ],
   "source": [
    "print(f\"\"\"Create a 1-D numpy array of first 4 integers : \n",
    "        {np.arange(1, 5)}\"\"\")"
   ]
  },
  {
   "cell_type": "code",
   "execution_count": 3,
   "id": "463b198f-3982-43f0-bf0f-c7a443999bfe",
   "metadata": {},
   "outputs": [
    {
     "name": "stdout",
     "output_type": "stream",
     "text": [
      "Create a 1-D numpy array of 5 zeroes : \n",
      "        [0. 0. 0. 0. 0.]\n"
     ]
    }
   ],
   "source": [
    "print(f\"\"\"Create a 1-D numpy array of 5 zeroes : \n",
    "        {np.zeros(5)}\"\"\")"
   ]
  },
  {
   "cell_type": "code",
   "execution_count": 4,
   "id": "75c8541a-b2fd-4ab4-ab69-61172763262a",
   "metadata": {},
   "outputs": [
    {
     "name": "stdout",
     "output_type": "stream",
     "text": [
      "Create a 1-D numpy array of 5 zeroes : \n",
      "        [0 0 0 0 0]\n"
     ]
    }
   ],
   "source": [
    "#Convert float of np.zeros(5) to integer\n",
    "print(f\"\"\"Create a 1-D numpy array of 5 zeroes : \n",
    "        {np.zeros(5, dtype = 'int')}\"\"\")"
   ]
  },
  {
   "cell_type": "code",
   "execution_count": null,
   "id": "b38d251e-37d0-4734-a95a-f1596c7e87f2",
   "metadata": {},
   "outputs": [],
   "source": []
  },
  {
   "cell_type": "markdown",
   "id": "47950672-1df5-4492-9c7e-1f66f77f46cd",
   "metadata": {},
   "source": [
    "#### 1 a. Create an array of first 10 multiples of 5 using the 'arange' function."
   ]
  },
  {
   "cell_type": "code",
   "execution_count": 5,
   "id": "a5ce23b7-5907-4715-857f-8d2e24275729",
   "metadata": {},
   "outputs": [
    {
     "name": "stdout",
     "output_type": "stream",
     "text": [
      "[ 5 10 15 20 25 30 35 40 45 50]\n"
     ]
    }
   ],
   "source": [
    "import numpy as np\n",
    "array_multipleof5 = np.arange(5, 5*11, 5)\n",
    "#Type your answer here\n",
    "\n",
    "print(array_multipleof5)"
   ]
  },
  {
   "cell_type": "code",
   "execution_count": null,
   "id": "1d79fab8-7806-460d-ad92-942a9547b804",
   "metadata": {},
   "outputs": [],
   "source": []
  },
  {
   "cell_type": "code",
   "execution_count": 6,
   "id": "b7e926ac-b9c0-48ae-97f7-b26cdbf95dad",
   "metadata": {},
   "outputs": [
    {
     "name": "stdout",
     "output_type": "stream",
     "text": [
      "4\n",
      "5\n"
     ]
    }
   ],
   "source": [
    "np_1 = np.arange(1, 5)\n",
    "np_2 = np.zeros(5)\n",
    "\n",
    "print(np_1.size)\n",
    "print(np_2.size)"
   ]
  },
  {
   "cell_type": "code",
   "execution_count": 7,
   "id": "acc920bc-8d13-4907-9625-aecc80fab880",
   "metadata": {},
   "outputs": [
    {
     "data": {
      "text/plain": [
       "array([[0, 0, 0, 0, 0],\n",
       "       [0, 0, 0, 0, 0],\n",
       "       [0, 0, 0, 0, 0],\n",
       "       [0, 0, 0, 0, 0],\n",
       "       [0, 0, 0, 0, 0]])"
      ]
     },
     "execution_count": 7,
     "metadata": {},
     "output_type": "execute_result"
    }
   ],
   "source": [
    "np.zeros((5,5), dtype = 'int')"
   ]
  },
  {
   "cell_type": "code",
   "execution_count": 9,
   "id": "1a995556-5dac-4cf3-b243-3bc36687271b",
   "metadata": {},
   "outputs": [
    {
     "ename": "ValueError",
     "evalue": "operands could not be broadcast together with shapes (4,) (5,) ",
     "output_type": "error",
     "traceback": [
      "\u001b[31m---------------------------------------------------------------------------\u001b[39m",
      "\u001b[31mValueError\u001b[39m                                Traceback (most recent call last)",
      "\u001b[36mCell\u001b[39m\u001b[36m \u001b[39m\u001b[32mIn[9]\u001b[39m\u001b[32m, line 1\u001b[39m\n\u001b[32m----> \u001b[39m\u001b[32m1\u001b[39m np_1 + np_2\n",
      "\u001b[31mValueError\u001b[39m: operands could not be broadcast together with shapes (4,) (5,) "
     ]
    }
   ],
   "source": [
    "np_1 + np_2"
   ]
  },
  {
   "cell_type": "markdown",
   "id": "0acc4d65-8d61-4fb9-b100-9cd6ac92e3d4",
   "metadata": {},
   "source": [
    "#### Conclusion: Numpy operations is possible on arrays of same size"
   ]
  },
  {
   "cell_type": "code",
   "execution_count": null,
   "id": "c25982af-5e92-49fe-90d9-374ff86f9ad6",
   "metadata": {},
   "outputs": [],
   "source": []
  },
  {
   "cell_type": "code",
   "execution_count": 10,
   "id": "3d3621e3-2476-4cb6-903f-b454dbc117c3",
   "metadata": {},
   "outputs": [
    {
     "data": {
      "text/plain": [
       "array([1, 1, 1, 1, 1])"
      ]
     },
     "execution_count": 10,
     "metadata": {},
     "output_type": "execute_result"
    }
   ],
   "source": [
    "np_3 = np.ones(5, dtype = 'int')\n",
    "np_3"
   ]
  },
  {
   "cell_type": "code",
   "execution_count": 11,
   "id": "0925ab3a-be22-4c58-a685-e492c235ea92",
   "metadata": {},
   "outputs": [
    {
     "data": {
      "text/plain": [
       "array([1., 1., 1., 1., 1.])"
      ]
     },
     "execution_count": 11,
     "metadata": {},
     "output_type": "execute_result"
    }
   ],
   "source": [
    "np_2 + np_3"
   ]
  },
  {
   "cell_type": "code",
   "execution_count": 12,
   "id": "e4076ac8-a38c-4c52-a515-e3836c77f464",
   "metadata": {},
   "outputs": [
    {
     "data": {
      "text/plain": [
       "array([-1., -1., -1., -1., -1.])"
      ]
     },
     "execution_count": 12,
     "metadata": {},
     "output_type": "execute_result"
    }
   ],
   "source": [
    "np_2 - np_3"
   ]
  },
  {
   "cell_type": "code",
   "execution_count": null,
   "id": "0cbbd6f5-2116-49d9-9067-bc1f01b3117f",
   "metadata": {},
   "outputs": [],
   "source": []
  },
  {
   "cell_type": "markdown",
   "id": "a18c9b4c-fe79-445d-bec7-10d8c255e9bc",
   "metadata": {},
   "source": [
    "### 2. Function: linespace(): You have a range of numbers and you want to create the bins accordingly"
   ]
  },
  {
   "cell_type": "code",
   "execution_count": 13,
   "id": "2b1c7063-36f6-43e6-ae1c-8b14b53be31e",
   "metadata": {},
   "outputs": [
    {
     "data": {
      "text/plain": [
       "array([ 0. ,  2.5,  5. ,  7.5, 10. ])"
      ]
     },
     "execution_count": 13,
     "metadata": {},
     "output_type": "execute_result"
    }
   ],
   "source": [
    "np.linspace(0,10,5)"
   ]
  },
  {
   "cell_type": "code",
   "execution_count": 14,
   "id": "a86b3b97-8d01-44f8-9068-2b51409011be",
   "metadata": {},
   "outputs": [
    {
     "data": {
      "text/plain": [
       "array([ 5, 10, 15, 20, 25, 30, 35, 40, 45, 50])"
      ]
     },
     "execution_count": 14,
     "metadata": {},
     "output_type": "execute_result"
    }
   ],
   "source": [
    "np.linspace(5, 5*10, 10, dtype = 'int')"
   ]
  },
  {
   "cell_type": "code",
   "execution_count": null,
   "id": "29da1cc4-8ce9-457f-abb2-f642de36c352",
   "metadata": {},
   "outputs": [],
   "source": []
  },
  {
   "cell_type": "code",
   "execution_count": null,
   "id": "3ee9b85b-033c-4e07-923d-4c9a02bcacd5",
   "metadata": {},
   "outputs": [],
   "source": []
  },
  {
   "cell_type": "markdown",
   "id": "7efafac6-5547-49b9-9bb3-a9b271557ed8",
   "metadata": {},
   "source": [
    "### 2. Other functions \n",
    "\n",
    "#### np.full(): Create a constant array of any number ‘n’.<br>\n",
    "#### np.tile(): Create a new array, by repeating an existing array, for a fixed number of times.<br>\n",
    "#### np.eye(): Create an identity matrix of any dimension.<br>\n",
    "#### np.random.random(): Create an array of random numbers between 0 and 1.<br>\n",
    "#### np.random.randint(): Create a random array of integers within a particular range.<br>"
   ]
  },
  {
   "cell_type": "markdown",
   "id": "7aa6ccd8-a146-4a1d-984c-84032bbac2ab",
   "metadata": {},
   "source": [
    "### 2 a. np.full()"
   ]
  },
  {
   "cell_type": "code",
   "execution_count": 15,
   "id": "aabbe21d-bff1-42e8-84de-1cb0891371f2",
   "metadata": {},
   "outputs": [
    {
     "data": {
      "text/plain": [
       "array([[inf, inf],\n",
       "       [inf, inf],\n",
       "       [inf, inf],\n",
       "       [inf, inf],\n",
       "       [inf, inf],\n",
       "       [inf, inf],\n",
       "       [inf, inf],\n",
       "       [inf, inf],\n",
       "       [inf, inf]])"
      ]
     },
     "execution_count": 15,
     "metadata": {},
     "output_type": "execute_result"
    }
   ],
   "source": [
    "np.full((9,2), np.inf)"
   ]
  },
  {
   "cell_type": "code",
   "execution_count": 16,
   "id": "71d8b4f8-15b6-48e3-8e1d-e7d980ef5fc3",
   "metadata": {},
   "outputs": [
    {
     "data": {
      "text/plain": [
       "array([[10, 10, 10, 10, 10, 10, 10],\n",
       "       [10, 10, 10, 10, 10, 10, 10],\n",
       "       [10, 10, 10, 10, 10, 10, 10],\n",
       "       [10, 10, 10, 10, 10, 10, 10],\n",
       "       [10, 10, 10, 10, 10, 10, 10],\n",
       "       [10, 10, 10, 10, 10, 10, 10],\n",
       "       [10, 10, 10, 10, 10, 10, 10],\n",
       "       [10, 10, 10, 10, 10, 10, 10],\n",
       "       [10, 10, 10, 10, 10, 10, 10]])"
      ]
     },
     "execution_count": 16,
     "metadata": {},
     "output_type": "execute_result"
    }
   ],
   "source": [
    "np.full((9, 7), 10)"
   ]
  },
  {
   "cell_type": "code",
   "execution_count": 17,
   "id": "622ccefd-2db7-43b2-ac42-c2632fb95727",
   "metadata": {
    "scrolled": true
   },
   "outputs": [
    {
     "data": {
      "text/plain": [
       "array([[1, 2, 3, 4, 5, 6, 7],\n",
       "       [1, 2, 3, 4, 5, 6, 7],\n",
       "       [1, 2, 3, 4, 5, 6, 7],\n",
       "       [1, 2, 3, 4, 5, 6, 7],\n",
       "       [1, 2, 3, 4, 5, 6, 7],\n",
       "       [1, 2, 3, 4, 5, 6, 7],\n",
       "       [1, 2, 3, 4, 5, 6, 7],\n",
       "       [1, 2, 3, 4, 5, 6, 7],\n",
       "       [1, 2, 3, 4, 5, 6, 7]])"
      ]
     },
     "execution_count": 17,
     "metadata": {},
     "output_type": "execute_result"
    }
   ],
   "source": [
    "np.full((9, 7), [1, 2, 3, 4, 5, 6, 7])"
   ]
  },
  {
   "cell_type": "code",
   "execution_count": null,
   "id": "60138e90-fad5-45cf-83fb-74ea995a2cc1",
   "metadata": {},
   "outputs": [],
   "source": []
  },
  {
   "cell_type": "markdown",
   "id": "4bf84bfb-86b0-48fa-a441-e45de3ff3bd9",
   "metadata": {},
   "source": [
    "### 2 b.np.tile()"
   ]
  },
  {
   "cell_type": "code",
   "execution_count": 18,
   "id": "476fb596-cf27-4ff0-9487-099f8e15afc3",
   "metadata": {},
   "outputs": [
    {
     "ename": "TypeError",
     "evalue": "tile() missing 2 required positional arguments: 'A' and 'reps'",
     "output_type": "error",
     "traceback": [
      "\u001b[31m---------------------------------------------------------------------------\u001b[39m",
      "\u001b[31mTypeError\u001b[39m                                 Traceback (most recent call last)",
      "\u001b[36mCell\u001b[39m\u001b[36m \u001b[39m\u001b[32mIn[18]\u001b[39m\u001b[32m, line 1\u001b[39m\n\u001b[32m----> \u001b[39m\u001b[32m1\u001b[39m np.tile()\n",
      "\u001b[31mTypeError\u001b[39m: tile() missing 2 required positional arguments: 'A' and 'reps'"
     ]
    }
   ],
   "source": [
    "np.tile()"
   ]
  },
  {
   "cell_type": "code",
   "execution_count": 19,
   "id": "c53bec13-975e-4fd9-b880-ad6a4a1dd9c9",
   "metadata": {},
   "outputs": [
    {
     "data": {
      "text/plain": [
       "array([[1, 2, 3, 4],\n",
       "       [1, 2, 3, 4],\n",
       "       [1, 2, 3, 4],\n",
       "       [1, 2, 3, 4]])"
      ]
     },
     "execution_count": 19,
     "metadata": {},
     "output_type": "execute_result"
    }
   ],
   "source": [
    "c = np.array([1,2,3,4])\n",
    "np.tile(c,(4,1))"
   ]
  },
  {
   "cell_type": "code",
   "execution_count": 20,
   "id": "5e239b29-6926-4eb6-85d5-a554ed5aa399",
   "metadata": {},
   "outputs": [
    {
     "data": {
      "text/plain": [
       "array([[1, 2, 3, 4, 1, 2, 3, 4],\n",
       "       [1, 2, 3, 4, 1, 2, 3, 4],\n",
       "       [1, 2, 3, 4, 1, 2, 3, 4],\n",
       "       [1, 2, 3, 4, 1, 2, 3, 4]])"
      ]
     },
     "execution_count": 20,
     "metadata": {},
     "output_type": "execute_result"
    }
   ],
   "source": [
    "np.tile(c,(4,2))"
   ]
  },
  {
   "cell_type": "code",
   "execution_count": 21,
   "id": "20285e1e-ac3f-4f92-909b-fb7725d6aa8b",
   "metadata": {},
   "outputs": [
    {
     "data": {
      "text/plain": [
       "array([1, 2, 3, 4, 1, 2, 3, 4])"
      ]
     },
     "execution_count": 21,
     "metadata": {},
     "output_type": "execute_result"
    }
   ],
   "source": [
    "np.tile(c,2)"
   ]
  },
  {
   "cell_type": "code",
   "execution_count": 22,
   "id": "8f8137c7-7d97-4138-82fb-577afe304636",
   "metadata": {},
   "outputs": [
    {
     "data": {
      "text/plain": [
       "array([[1, 2, 3, 4, 1, 2, 3, 4],\n",
       "       [1, 2, 3, 4, 1, 2, 3, 4]])"
      ]
     },
     "execution_count": 22,
     "metadata": {},
     "output_type": "execute_result"
    }
   ],
   "source": [
    "np.tile(c, (2, 2))"
   ]
  },
  {
   "cell_type": "code",
   "execution_count": 23,
   "id": "c3ec0988-1753-44a8-98fb-4a73cccf600f",
   "metadata": {},
   "outputs": [
    {
     "data": {
      "text/plain": [
       "array([[1, 2, 3, 4],\n",
       "       [1, 2, 3, 4],\n",
       "       [1, 2, 3, 4]])"
      ]
     },
     "execution_count": 23,
     "metadata": {},
     "output_type": "execute_result"
    }
   ],
   "source": [
    "np.tile(c,(3,1))"
   ]
  },
  {
   "cell_type": "code",
   "execution_count": null,
   "id": "ef7f9533-27cf-4a19-bcf0-d0859399710d",
   "metadata": {},
   "outputs": [],
   "source": []
  },
  {
   "cell_type": "markdown",
   "id": "64e5c406-a344-4512-baf2-529f3f712d68",
   "metadata": {},
   "source": [
    "### 2 c. np.eye()"
   ]
  },
  {
   "cell_type": "code",
   "execution_count": 24,
   "id": "df604b67-4620-4922-b832-513051d7ce25",
   "metadata": {},
   "outputs": [
    {
     "data": {
      "text/plain": [
       "array([[1, 0],\n",
       "       [0, 1]])"
      ]
     },
     "execution_count": 24,
     "metadata": {},
     "output_type": "execute_result"
    }
   ],
   "source": [
    "np.eye(2, dtype='int')"
   ]
  },
  {
   "cell_type": "code",
   "execution_count": 25,
   "id": "49ca8f3f-d041-4731-b2c7-da6b806332a4",
   "metadata": {},
   "outputs": [
    {
     "data": {
      "text/plain": [
       "array([[1, 0, 0],\n",
       "       [0, 1, 0]])"
      ]
     },
     "execution_count": 25,
     "metadata": {},
     "output_type": "execute_result"
    }
   ],
   "source": [
    "np.eye(2,3, dtype='int')"
   ]
  },
  {
   "cell_type": "code",
   "execution_count": 26,
   "id": "3af7d53d-1493-446d-a194-7555a3cef03b",
   "metadata": {},
   "outputs": [
    {
     "data": {
      "text/plain": [
       "array([[1, 0, 0, 0, 0],\n",
       "       [0, 1, 0, 0, 0],\n",
       "       [0, 0, 1, 0, 0],\n",
       "       [0, 0, 0, 1, 0],\n",
       "       [0, 0, 0, 0, 1],\n",
       "       [0, 0, 0, 0, 0],\n",
       "       [0, 0, 0, 0, 0]])"
      ]
     },
     "execution_count": 26,
     "metadata": {},
     "output_type": "execute_result"
    }
   ],
   "source": [
    "np.eye(7,5, dtype='int')"
   ]
  },
  {
   "cell_type": "code",
   "execution_count": 27,
   "id": "8fcab9bf-883c-491f-bb72-112eec22a9c5",
   "metadata": {},
   "outputs": [
    {
     "data": {
      "text/plain": [
       "array([[0, 0, 1, 0, 0],\n",
       "       [0, 0, 0, 1, 0],\n",
       "       [0, 0, 0, 0, 1],\n",
       "       [0, 0, 0, 0, 0],\n",
       "       [0, 0, 0, 0, 0],\n",
       "       [0, 0, 0, 0, 0],\n",
       "       [0, 0, 0, 0, 0]])"
      ]
     },
     "execution_count": 27,
     "metadata": {},
     "output_type": "execute_result"
    }
   ],
   "source": [
    "np.eye(7, 5, k=2, dtype='int')"
   ]
  },
  {
   "cell_type": "code",
   "execution_count": null,
   "id": "b97c6f44-2ee0-48dc-9387-07d18859f9ae",
   "metadata": {},
   "outputs": [],
   "source": []
  },
  {
   "cell_type": "markdown",
   "id": "4c772ca1-3579-4482-8f39-b64246ba185a",
   "metadata": {},
   "source": [
    "#### 2 d. np.random.random(): Create an array of random numbers between 0 and 1.\n",
    "#### np.random.rand(): Create an array of the given shape and populate it with random samples from a uniform distribution over ``[0, 1)``\n",
    "#### np.random.randint(): Return random integers from the \"discrete uniform\" distribution of the specified dtype in the \"half-open\" interval [`low`, `high`). If `high` is None (the default), then results are from [0, `low`).\n",
    "#### np.random.random(): Return random floats in the half-open interval [0.0, 1.0). Alias for `random_sample` to ease forward-porting to the new random API."
   ]
  },
  {
   "cell_type": "code",
   "execution_count": 43,
   "id": "501b3ecc-33b8-4f19-8ca5-27281112ba90",
   "metadata": {},
   "outputs": [],
   "source": [
    "import matplotlib.pyplot as plt"
   ]
  },
  {
   "cell_type": "code",
   "execution_count": 76,
   "id": "e07449a2-92a5-47e7-bb77-ec3160979e2f",
   "metadata": {},
   "outputs": [
    {
     "data": {
      "text/plain": [
       "array([6.23126524e-01, 6.26549909e-01, 2.66189955e-01, 5.72592825e-04])"
      ]
     },
     "execution_count": 76,
     "metadata": {},
     "output_type": "execute_result"
    }
   ],
   "source": [
    "np.random.rand(4)"
   ]
  },
  {
   "cell_type": "code",
   "execution_count": 73,
   "id": "05efe5f0-4c8e-43f9-8a32-2fb4eaacf1a6",
   "metadata": {},
   "outputs": [
    {
     "data": {
      "text/plain": [
       "array([[0.37132679, 0.65710882, 0.8410802 , 0.61507723],\n",
       "       [0.25406259, 0.65207929, 0.54693862, 0.76484385],\n",
       "       [0.07156   , 0.0236402 , 0.46046686, 0.05330656],\n",
       "       [0.11312716, 0.36544777, 0.05453253, 0.76339409],\n",
       "       [0.35703639, 0.27178882, 0.16193825, 0.86091517],\n",
       "       [0.26294499, 0.19272767, 0.81063139, 0.65412662],\n",
       "       [0.72508063, 0.85364178, 0.39972644, 0.88581024],\n",
       "       [0.21214367, 0.73712079, 0.15897236, 0.86056305],\n",
       "       [0.39139485, 0.95585012, 0.18035123, 0.89610407],\n",
       "       [0.66877216, 0.16302286, 0.08766081, 0.97091144]])"
      ]
     },
     "execution_count": 73,
     "metadata": {},
     "output_type": "execute_result"
    }
   ],
   "source": [
    "np.random.rand(10,4)"
   ]
  },
  {
   "cell_type": "code",
   "execution_count": 67,
   "id": "aaac1a15-0c2f-4748-988f-daafceee3736",
   "metadata": {},
   "outputs": [
    {
     "data": {
      "text/plain": [
       "array([4, 6, 4, 4, 4, 3, 3, 6, 6, 6])"
      ]
     },
     "execution_count": 67,
     "metadata": {},
     "output_type": "execute_result"
    }
   ],
   "source": [
    "np.random.randint(2,7, size=10)"
   ]
  },
  {
   "cell_type": "code",
   "execution_count": 68,
   "id": "f923b266-6a2e-4514-9410-548bd8e9eaed",
   "metadata": {},
   "outputs": [
    {
     "data": {
      "text/plain": [
       "array([[3, 6, 4, 5, 3, 4, 3, 2],\n",
       "       [2, 2, 5, 4, 4, 3, 4, 6],\n",
       "       [2, 4, 5, 5, 4, 2, 6, 3],\n",
       "       [3, 3, 2, 5, 5, 2, 6, 2],\n",
       "       [2, 2, 2, 3, 5, 5, 2, 3],\n",
       "       [3, 6, 6, 6, 2, 6, 2, 6],\n",
       "       [4, 2, 2, 3, 5, 2, 4, 6],\n",
       "       [6, 5, 5, 5, 5, 5, 5, 4],\n",
       "       [4, 3, 4, 3, 3, 2, 6, 3],\n",
       "       [5, 4, 5, 4, 6, 4, 4, 5]])"
      ]
     },
     "execution_count": 68,
     "metadata": {},
     "output_type": "execute_result"
    }
   ],
   "source": [
    "np.random.randint(2,7, size=(10,8))"
   ]
  },
  {
   "cell_type": "code",
   "execution_count": 78,
   "id": "940a8d23-4d24-4cce-91e3-04804a82f1a5",
   "metadata": {},
   "outputs": [
    {
     "data": {
      "text/plain": [
       "array([[0.72254857, 0.25728588],\n",
       "       [0.02484915, 0.11707218],\n",
       "       [0.9287628 , 0.7934628 ],\n",
       "       [0.90652128, 0.0142843 ],\n",
       "       [0.73636772, 0.08198669],\n",
       "       [0.60278261, 0.82659548],\n",
       "       [0.62878749, 0.37305083],\n",
       "       [0.93365774, 0.76950039],\n",
       "       [0.96311885, 0.70602885]])"
      ]
     },
     "execution_count": 78,
     "metadata": {},
     "output_type": "execute_result"
    }
   ],
   "source": [
    "np.random.random((9,2))"
   ]
  },
  {
   "cell_type": "code",
   "execution_count": 53,
   "id": "405fb81e-75b8-4ea8-a3b7-60f0f9688059",
   "metadata": {},
   "outputs": [
    {
     "name": "stdout",
     "output_type": "stream",
     "text": [
      "[0.75430896 0.19756991 0.442382   0.24015858 0.00892578 0.7266035\n",
      " 0.15505922 0.34097899]\n",
      "[0.59595221 0.95211553 0.32713543 0.19908653 0.85246295 0.11745077\n",
      " 0.81286982 0.00637345 0.44428458]\n"
     ]
    },
    {
     "data": {
      "image/png": "[encoded data removed]",
      "text/plain": [
       "<Figure size 640x480 with 1 Axes>"
      ]
     },
     "metadata": {},
     "output_type": "display_data"
    }
   ],
   "source": [
    "print(np.random.random(8))\n",
    "print(np.random.random(9))\n",
    "plt.hist(np.random.random(8))\n",
    "plt.show()"
   ]
  },
  {
   "cell_type": "code",
   "execution_count": 54,
   "id": "2d79ddb7-b19e-453e-a5a7-6867296e661a",
   "metadata": {},
   "outputs": [
    {
     "name": "stdout",
     "output_type": "stream",
     "text": [
      "[50.07515737 50.05732159 50.12016097 50.01693056 49.99575487 50.09491256\n",
      " 49.83335045 49.75495653 50.01452672 50.07958117 50.03178239 49.87826152\n",
      " 50.03172009 49.96152023 49.85457145 49.98902877 50.00973569 50.01820785\n",
      " 49.91706625 49.88609246 49.93893097 49.94630821 50.13256709 49.97617256\n",
      " 49.97774932 50.02904977 50.00139679 49.97011549 49.79615889 49.9864054\n",
      " 49.92830802 50.22392902 49.89573249 50.08853279 50.0748037  49.91275812\n",
      " 50.23894192 50.07541011 50.07557217 49.9207429  49.95827527 50.07688841\n",
      " 49.83583614 50.07560431 50.04353864 49.94702171 50.03511832 50.07124313\n",
      " 50.1059508  50.09003079 49.99409344 50.04897252 50.04129853 49.96351525\n",
      " 49.82498897 50.01381801 50.07200277 50.10629579 50.08440005 50.14239963\n",
      " 49.87614869 49.9196358  49.86443632 49.93067524 49.92809771 49.87215882\n",
      " 50.05260502 50.11309105 50.04631839 49.94407996 50.01029656 50.11582508\n",
      " 50.12139719 50.06347188 49.98681554 49.79229144 50.0757274  50.04638557\n",
      " 50.08517619 50.02380352 49.93967848 50.00587551 49.98438941 49.87461567\n",
      " 50.05219604 49.97508454 50.00485793 49.93976861 49.80984605 49.94399351\n",
      " 49.93330598 50.06577536 50.04295981 49.9750462  49.96218882 50.10059104\n",
      " 49.78918938 49.78843333 49.99914263 50.08588033]\n"
     ]
    },
    {
     "data": {
      "image/png": "[encoded data removed]",
      "text/plain": [
       "<Figure size 640x480 with 1 Axes>"
      ]
     },
     "metadata": {},
     "output_type": "display_data"
    }
   ],
   "source": [
    "print(np.random.normal(50, 0.1, 100))\n",
    "plt.hist(np.random.normal(50, 0.1, 100))\n",
    "plt.show()"
   ]
  },
  {
   "cell_type": "code",
   "execution_count": null,
   "id": "d686f2fe-94e3-45f7-a81a-69fda648f92d",
   "metadata": {},
   "outputs": [],
   "source": []
  }
 ],
 "metadata": {
  "kernelspec": {
   "display_name": "Python (python_datascience_ai)",
   "language": "python",
   "name": "python_datascience_ai"
  },
  "language_info": {
   "codemirror_mode": {
    "name": "ipython",
    "version": 3
   },
   "file_extension": ".py",
   "mimetype": "text/x-python",
   "name": "python",
   "nbconvert_exporter": "python",
   "pygments_lexer": "ipython3",
   "version": "3.13.5"
  }
 },
 "nbformat": 4,
 "nbformat_minor": 5
}
