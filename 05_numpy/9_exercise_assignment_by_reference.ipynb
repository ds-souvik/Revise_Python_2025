{
 "cells": [
  {
   "cell_type": "markdown",
   "id": "2f772b70-993b-4cdb-ad3f-af3eb45ff572",
   "metadata": {},
   "source": [
    "### Exercise: Swap two rows.\n",
    "\n",
    "### Concept Learnt: Assignment by reference.\n",
    "The output for a and b is the same because of how variable assignment works with mutable objects in Python, including NumPy arrays. The line b = a does not create a new, independent copy of the array a. Instead, it creates a new name (b) that points to the exact same array object in memory as a. <br>\n",
    "This behavior is called \"assignment by reference.\" Any changes made to the object through one variable name (a) will be visible when you access the object through the other variable name (b), because they both refer to the same underlying data. "
   ]
  },
  {
   "cell_type": "markdown",
   "id": "f939a07d-b22e-4343-84d9-40793a5b7d39",
   "metadata": {},
   "source": [
    "#### Description: Given m and n, swap the mth and nth rows of the 2-D NumPy array given below.\n",
    "\n",
    "a = [[4 3 1] <br>\n",
    "    [5 7 0] <br>\n",
    "    [9 9 3] <br>\n",
    "    [8 2 4]] <br>\n",
    "\n",
    "Example: <br>\n",
    "Input 1:<br>\n",
    "0<br>\n",
    "2<br>\n",
    "Output 1:<br>\n",
    "[[9 9 3] <br>\n",
    " [5 7 0] <br>\n",
    " [4 3 1] <br>\n",
    " [8 2 4]] <br>\n"
   ]
  },
  {
   "cell_type": "markdown",
   "id": "f409bce4-445d-4126-affa-741f1b9be354",
   "metadata": {},
   "source": [
    "### In such cases use var1 = var2.copy()"
   ]
  },
  {
   "cell_type": "code",
   "execution_count": 1,
   "id": "295d5ae9-f3e0-42a8-a377-e8fed8cd51aa",
   "metadata": {},
   "outputs": [
    {
     "name": "stdout",
     "output_type": "stream",
     "text": [
      "[[9 9 3]\n",
      " [5 7 0]\n",
      " [4 3 1]\n",
      " [8 2 4]]\n"
     ]
    }
   ],
   "source": [
    "import numpy as np \n",
    "\n",
    "# Given array\n",
    "a = np.array([[4, 3, 1], [5, 7, 0], [9, 9, 3], [8, 2, 4]])\n",
    "\n",
    "# Read the values of m and n\n",
    "import sys\n",
    "lines = sys.stdin.readlines()\n",
    "m = 0\n",
    "n = 2\n",
    "\n",
    "# Write your code for swapping here\n",
    "b=a.copy()\n",
    "b[m] = a[n].copy()\n",
    "b[n] = a[m].copy()\n",
    "# Print the array after swapping\n",
    "print(b)"
   ]
  },
  {
   "cell_type": "code",
   "execution_count": null,
   "id": "97f78a47-2905-42d2-81d9-00083ebf95eb",
   "metadata": {},
   "outputs": [],
   "source": []
  }
 ],
 "metadata": {
  "kernelspec": {
   "display_name": "Python (python_datascience_ai)",
   "language": "python",
   "name": "python_datascience_ai"
  },
  "language_info": {
   "codemirror_mode": {
    "name": "ipython",
    "version": 3
   },
   "file_extension": ".py",
   "mimetype": "text/x-python",
   "name": "python",
   "nbconvert_exporter": "python",
   "pygments_lexer": "ipython3",
   "version": "3.13.5"
  }
 },
 "nbformat": 4,
 "nbformat_minor": 5
}
