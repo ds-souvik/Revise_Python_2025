{
 "cells": [
  {
   "cell_type": "markdown",
   "id": "d2841df8-945d-4397-819b-9dde4cd43012",
   "metadata": {},
   "source": [
    "### 1. hstack and vstack:\n",
    "\n",
    "In lists whenever we do the operation list1 + list2, we observe concatenation of 2 arrays.<br>\n",
    "But in arrays the list elements adds itself <br>\n",
    "Now suppose we want to concatenate 2 arrays.. how do we do that?<br>\n",
    "In arrays we have 2 different ways of doing it:\n",
    "1. hstck: horizontal concatenation\n",
    "2. vstack: vertical concatenation"
   ]
  },
  {
   "cell_type": "code",
   "execution_count": 1,
   "id": "8222d78b-275d-47f4-a3a5-bcfce0705f61",
   "metadata": {},
   "outputs": [],
   "source": [
    "import numpy as np"
   ]
  },
  {
   "cell_type": "code",
   "execution_count": 2,
   "id": "f96f2122-413c-4961-9d8a-0e4a1e60940f",
   "metadata": {},
   "outputs": [
    {
     "name": "stdout",
     "output_type": "stream",
     "text": [
      "1st array: [0 1 2 3 4]\n",
      "2nd array: [5 6 7 8 9]\n",
      "3rd array: ['Souvik' 'Sayli' 'Sumita' 'Debdas' 'Ganguly']\n"
     ]
    }
   ],
   "source": [
    "arr_1 = np.arange(5)\n",
    "arr_2 = np.arange(5,10)\n",
    "arr_3 = np.array(['Souvik', 'Sayli', 'Sumita', 'Debdas', 'Ganguly'])\n",
    "\n",
    "print(f\"1st array: {arr_1}\")\n",
    "print(f\"2nd array: {arr_2}\")\n",
    "print(f\"3rd array: {arr_3}\")"
   ]
  },
  {
   "cell_type": "code",
   "execution_count": 3,
   "id": "a4c10d97-4586-4956-8fe2-053abb0de3dc",
   "metadata": {},
   "outputs": [
    {
     "name": "stdout",
     "output_type": "stream",
     "text": [
      "Simple + operator between the 2 arrays: [ 5  7  9 11 13]\n"
     ]
    }
   ],
   "source": [
    "print(f\"Simple + operator between the 2 arrays: {arr_1 + arr_2}\")"
   ]
  },
  {
   "cell_type": "code",
   "execution_count": 4,
   "id": "5da1108d-3209-40f0-8640-6eb382c93e8f",
   "metadata": {},
   "outputs": [
    {
     "name": "stdout",
     "output_type": "stream",
     "text": [
      "[0 1 2 3 4 5 6 7 8 9 'Souvik' 'Sayli' 'Sumita' 'Debdas' 'Ganguly']\n",
      "\n",
      "\n",
      "['0' '1' '2' '3' '4' '5' '6' '7' '8' '9' 'Souvik' 'Sayli' 'Sumita'\n",
      " 'Debdas' 'Ganguly']\n",
      "\n",
      "\n",
      "[0 1 2 3 4 5 6 7 8 9]\n"
     ]
    }
   ],
   "source": [
    "arr_hstack_diff_datatype = np.hstack((arr_1, arr_2, arr_3), dtype=object)\n",
    "\n",
    "arr_hstack_no_dtype = np.hstack((arr_1, arr_2, arr_3))\n",
    "\n",
    "arr_hstack_same_datatype = np.hstack((arr_1, arr_2))\n",
    "\n",
    "\n",
    "print(arr_hstack_diff_datatype)\n",
    "print(\"\\n\")\n",
    "print(arr_hstack_no_dtype)\n",
    "print(\"\\n\")\n",
    "print(arr_hstack_same_datatype)"
   ]
  },
  {
   "cell_type": "code",
   "execution_count": 5,
   "id": "ac8b60b2-3381-4c6a-94e6-4b994bbe47aa",
   "metadata": {},
   "outputs": [
    {
     "name": "stdout",
     "output_type": "stream",
     "text": [
      "[[0 1 2 3 4]\n",
      " [5 6 7 8 9]\n",
      " ['Souvik' 'Sayli' 'Sumita' 'Debdas' 'Ganguly']]\n",
      "\n",
      "\n",
      "[['0' '1' '2' '3' '4']\n",
      " ['5' '6' '7' '8' '9']\n",
      " ['Souvik' 'Sayli' 'Sumita' 'Debdas' 'Ganguly']]\n",
      "\n",
      "\n",
      "[[0 1 2 3 4]\n",
      " [5 6 7 8 9]]\n"
     ]
    }
   ],
   "source": [
    "arr_vstack_diff_datatype = np.vstack((arr_1, arr_2, arr_3), dtype=object)\n",
    "\n",
    "arr_vstack_no_dtype = np.vstack((arr_1, arr_2, arr_3))\n",
    "\n",
    "arr_vstack_same_datatype = np.vstack((arr_1, arr_2))\n",
    "\n",
    "\n",
    "print(arr_vstack_diff_datatype)\n",
    "print(\"\\n\")\n",
    "print(arr_vstack_no_dtype)\n",
    "print(\"\\n\")\n",
    "print(arr_vstack_same_datatype)"
   ]
  },
  {
   "cell_type": "code",
   "execution_count": null,
   "id": "ccf579e1-8c53-45d3-87fb-90ef5256ff61",
   "metadata": {},
   "outputs": [],
   "source": []
  },
  {
   "cell_type": "markdown",
   "id": "1a3c4954-41e9-4a24-9e87-ddde4a6f61c5",
   "metadata": {},
   "source": [
    "### 2. reshape:\n",
    "\n",
    "This function is used to manipulate the dimensions and shape of the array. "
   ]
  },
  {
   "cell_type": "code",
   "execution_count": 6,
   "id": "f2d77f9e-babb-40d9-908c-39ebcba7914b",
   "metadata": {},
   "outputs": [
    {
     "data": {
      "text/plain": [
       "array([[37, 23,  7, 80, 20, 45,  7, 12, 20, 93],\n",
       "       [16, 15, 65, 41, 67, 46, 68, 40, 90, 20],\n",
       "       [ 5, 76, 55, 41, 44, 68, 60,  4, 67, 60],\n",
       "       [50, 89, 77, 77, 85,  3, 48, 34, 41, 89],\n",
       "       [65, 14, 54, 34, 12, 69,  4, 21, 63, 68],\n",
       "       [53,  7, 74, 57, 48,  8, 87, 79, 73, 59],\n",
       "       [63, 33,  4, 34, 36, 22, 25, 93,  6, 65],\n",
       "       [83, 51, 84, 64, 64, 42, 12, 86, 46, 31],\n",
       "       [33, 32, 61, 16, 28, 30, 77, 73, 63, 62],\n",
       "       [60, 45, 97, 77, 70, 95, 40, 34, 30, 33],\n",
       "       [63,  1, 88, 62, 58, 90, 23, 11, 92, 51]])"
      ]
     },
     "execution_count": 6,
     "metadata": {},
     "output_type": "execute_result"
    }
   ],
   "source": [
    "arr_4 = np.random.randint(1, 99, size = (11,10))\n",
    "\n",
    "arr_4"
   ]
  },
  {
   "cell_type": "code",
   "execution_count": 8,
   "id": "3491816b-0ef5-4c4d-8651-d59153ab16cf",
   "metadata": {},
   "outputs": [
    {
     "data": {
      "text/plain": [
       "(11, 10)"
      ]
     },
     "execution_count": 8,
     "metadata": {},
     "output_type": "execute_result"
    }
   ],
   "source": [
    "arr_4.shape"
   ]
  },
  {
   "cell_type": "code",
   "execution_count": 11,
   "id": "046e2462-a3b2-4da1-86ff-650164d18032",
   "metadata": {},
   "outputs": [
    {
     "data": {
      "text/plain": [
       "array([[37, 23],\n",
       "       [ 7, 80],\n",
       "       [20, 45],\n",
       "       [ 7, 12],\n",
       "       [20, 93],\n",
       "       [16, 15],\n",
       "       [65, 41],\n",
       "       [67, 46],\n",
       "       [68, 40],\n",
       "       [90, 20],\n",
       "       [ 5, 76],\n",
       "       [55, 41],\n",
       "       [44, 68],\n",
       "       [60,  4],\n",
       "       [67, 60],\n",
       "       [50, 89],\n",
       "       [77, 77],\n",
       "       [85,  3],\n",
       "       [48, 34],\n",
       "       [41, 89],\n",
       "       [65, 14],\n",
       "       [54, 34],\n",
       "       [12, 69],\n",
       "       [ 4, 21],\n",
       "       [63, 68],\n",
       "       [53,  7],\n",
       "       [74, 57],\n",
       "       [48,  8],\n",
       "       [87, 79],\n",
       "       [73, 59],\n",
       "       [63, 33],\n",
       "       [ 4, 34],\n",
       "       [36, 22],\n",
       "       [25, 93],\n",
       "       [ 6, 65],\n",
       "       [83, 51],\n",
       "       [84, 64],\n",
       "       [64, 42],\n",
       "       [12, 86],\n",
       "       [46, 31],\n",
       "       [33, 32],\n",
       "       [61, 16],\n",
       "       [28, 30],\n",
       "       [77, 73],\n",
       "       [63, 62],\n",
       "       [60, 45],\n",
       "       [97, 77],\n",
       "       [70, 95],\n",
       "       [40, 34],\n",
       "       [30, 33],\n",
       "       [63,  1],\n",
       "       [88, 62],\n",
       "       [58, 90],\n",
       "       [23, 11],\n",
       "       [92, 51]])"
      ]
     },
     "execution_count": 11,
     "metadata": {},
     "output_type": "execute_result"
    }
   ],
   "source": [
    "arr_4 = arr_4.reshape((55,2))\n",
    "\n",
    "arr_4"
   ]
  },
  {
   "cell_type": "code",
   "execution_count": null,
   "id": "98ec109f-bf88-495a-b1ff-e866218eb7c6",
   "metadata": {},
   "outputs": [],
   "source": []
  }
 ],
 "metadata": {
  "kernelspec": {
   "display_name": "Python (python_datascience_ai)",
   "language": "python",
   "name": "python_datascience_ai"
  },
  "language_info": {
   "codemirror_mode": {
    "name": "ipython",
    "version": 3
   },
   "file_extension": ".py",
   "mimetype": "text/x-python",
   "name": "python",
   "nbconvert_exporter": "python",
   "pygments_lexer": "ipython3",
   "version": "3.13.5"
  }
 },
 "nbformat": 4,
 "nbformat_minor": 5
}
