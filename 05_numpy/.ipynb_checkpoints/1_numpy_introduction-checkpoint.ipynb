{
 "cells": [
  {
   "cell_type": "markdown",
   "id": "27cb704f-5eb0-477b-8682-9a6da514616e",
   "metadata": {},
   "source": [
    "### Numpy vs List"
   ]
  },
  {
   "cell_type": "markdown",
   "id": "f7471bf2-8649-426d-91b2-488ff4374635",
   "metadata": {},
   "source": [
    "#### 1. We cannot perform a mathematical operation on all the elements of a list together. It gives an error as shown below:"
   ]
  },
  {
   "cell_type": "code",
   "execution_count": 1,
   "id": "f701e2f0-6217-4578-a44f-6a966d1ad62b",
   "metadata": {},
   "outputs": [
    {
     "ename": "TypeError",
     "evalue": "can't multiply sequence by non-int of type 'float'",
     "output_type": "error",
     "traceback": [
      "\u001b[31m---------------------------------------------------------------------------\u001b[39m",
      "\u001b[31mTypeError\u001b[39m                                 Traceback (most recent call last)",
      "\u001b[36mCell\u001b[39m\u001b[36m \u001b[39m\u001b[32mIn[1]\u001b[39m\u001b[32m, line 3\u001b[39m\n\u001b[32m      1\u001b[39m sample_list = [\u001b[32m1\u001b[39m, \u001b[32m2\u001b[39m, \u001b[32m3\u001b[39m]\n\u001b[32m----> \u001b[39m\u001b[32m3\u001b[39m sample_list * \u001b[32m2.5\u001b[39m\n",
      "\u001b[31mTypeError\u001b[39m: can't multiply sequence by non-int of type 'float'"
     ]
    }
   ],
   "source": [
    "sample_list = [1, 2, 3]\n",
    "\n",
    "sample_list * 2.5"
   ]
  },
  {
   "cell_type": "code",
   "execution_count": 2,
   "id": "27f3deaa-f88a-4905-8a5c-dc2da4f98aea",
   "metadata": {},
   "outputs": [
    {
     "data": {
      "text/plain": [
       "array([2.5, 5. , 7.5])"
      ]
     },
     "execution_count": 2,
     "metadata": {},
     "output_type": "execute_result"
    }
   ],
   "source": [
    "import numpy as np\n",
    "\n",
    "sample_np_array = np.array([1, 2, 3])\n",
    "\n",
    "sample_np_array * 2.5"
   ]
  },
  {
   "cell_type": "markdown",
   "id": "fb2052bf-b17e-4644-8928-c144893ac408",
   "metadata": {},
   "source": [
    "This can be achieved using numpy. The key advantage of NumPy arrays over lists is that the array allows you to operate over the entire data, unlike lists. "
   ]
  },
  {
   "cell_type": "markdown",
   "id": "b746380f-1ce9-4e8a-8d4e-f994843f534a",
   "metadata": {},
   "source": [
    "An important thing to note is that the above array is a one-dimensional array. We can also create multidimensional arrays in the coming lectures."
   ]
  },
  {
   "cell_type": "markdown",
   "id": "bb89aafe-5371-499d-b977-bb2262502024",
   "metadata": {},
   "source": [
    "Numpy array can also br created using a tuple. \n",
    "\n",
    "#### Any sequence that has an array-like structure can be passed to the np.array function."
   ]
  },
  {
   "cell_type": "code",
   "execution_count": 15,
   "id": "c59abd55-8396-459a-9c6d-3293f69a62eb",
   "metadata": {},
   "outputs": [
    {
     "name": "stdout",
     "output_type": "stream",
     "text": [
      "['4' '7' '9' 'Souvik']\n"
     ]
    }
   ],
   "source": [
    "print(np.array((4, 7, 9, \"Souvik\")))"
   ]
  },
  {
   "cell_type": "code",
   "execution_count": null,
   "id": "89deab86-fb60-4f82-8abe-ce14083250b4",
   "metadata": {},
   "outputs": [],
   "source": []
  },
  {
   "cell_type": "code",
   "execution_count": null,
   "id": "ae5edbf5-025c-450d-88a5-e2c98ccc6adb",
   "metadata": {},
   "outputs": [],
   "source": []
  },
  {
   "cell_type": "markdown",
   "id": "de5b946f-d1be-43b1-8df2-03d90ff5383f",
   "metadata": {},
   "source": [
    "#### 2. Numpy arrays are homogeneous in nature. They can contain data only of a single data type"
   ]
  },
  {
   "cell_type": "code",
   "execution_count": 3,
   "id": "4beaee0b-4b3f-46e4-8161-c47c5ee097ed",
   "metadata": {},
   "outputs": [
    {
     "data": {
      "text/plain": [
       "array(['1', 'sample_string', 'True'], dtype='<U21')"
      ]
     },
     "execution_count": 3,
     "metadata": {},
     "output_type": "execute_result"
    }
   ],
   "source": [
    "np.array([1, \"sample_string\", True])"
   ]
  },
  {
   "cell_type": "markdown",
   "id": "c3abc5dc-16ea-4799-b199-90a24e4dbacb",
   "metadata": {},
   "source": [
    "Every element is converted to a string"
   ]
  },
  {
   "cell_type": "code",
   "execution_count": 10,
   "id": "699db1aa-82b3-4dfa-b3b7-61e626c1d83d",
   "metadata": {},
   "outputs": [
    {
     "data": {
      "text/plain": [
       "array([1. , 1.5, 3.4, 0. ])"
      ]
     },
     "execution_count": 10,
     "metadata": {},
     "output_type": "execute_result"
    }
   ],
   "source": [
    "np.array([1, 1.5, 3.4, False])"
   ]
  },
  {
   "cell_type": "markdown",
   "id": "66b54d18-7158-49aa-abe1-1fc26d6f254e",
   "metadata": {},
   "source": [
    "Every element is converted to float"
   ]
  },
  {
   "cell_type": "code",
   "execution_count": null,
   "id": "9f2c479c-c377-4682-bde7-930f6c99e4d3",
   "metadata": {},
   "outputs": [],
   "source": []
  },
  {
   "cell_type": "markdown",
   "id": "cf9b5bb3-f735-4f16-a264-fcb51aefaae7",
   "metadata": {},
   "source": [
    "#### 3. Difference between operations of lists and numpy array"
   ]
  },
  {
   "cell_type": "code",
   "execution_count": 7,
   "id": "98700d4b-9f5f-4464-8e5b-8c1757e7b643",
   "metadata": {},
   "outputs": [
    {
     "name": "stdout",
     "output_type": "stream",
     "text": [
      "[1, 2, 3, 4, 5, 6]\n"
     ]
    }
   ],
   "source": [
    "l1 = [1,2,3]\n",
    "l2 = [4,5,6]\n",
    "\n",
    "print(l1+l2)"
   ]
  },
  {
   "cell_type": "code",
   "execution_count": 6,
   "id": "0919f928-ddf4-4cf9-9251-aef320c53a88",
   "metadata": {},
   "outputs": [
    {
     "name": "stdout",
     "output_type": "stream",
     "text": [
      "[5 7 9]\n"
     ]
    }
   ],
   "source": [
    "np_1 = np.array([1,2,3])\n",
    "np_2 = np.array([4,5,6])\n",
    "\n",
    "print(np_1 + np_2)"
   ]
  },
  {
   "cell_type": "code",
   "execution_count": null,
   "id": "6ef65741-6644-4567-b0fb-571e520c212c",
   "metadata": {},
   "outputs": [],
   "source": []
  }
 ],
 "metadata": {
  "kernelspec": {
   "display_name": "Python (python_datascience_ai)",
   "language": "python",
   "name": "python_datascience_ai"
  },
  "language_info": {
   "codemirror_mode": {
    "name": "ipython",
    "version": 3
   },
   "file_extension": ".py",
   "mimetype": "text/x-python",
   "name": "python",
   "nbconvert_exporter": "python",
   "pygments_lexer": "ipython3",
   "version": "3.13.5"
  }
 },
 "nbformat": 4,
 "nbformat_minor": 5
}
