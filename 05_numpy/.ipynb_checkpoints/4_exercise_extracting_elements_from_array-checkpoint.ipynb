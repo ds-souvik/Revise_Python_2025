{
 "cells": [
  {
   "cell_type": "markdown",
   "id": "15789a2f-30a2-4d02-bded-2141b3d46b77",
   "metadata": {},
   "source": [
    "### Extracting Elements from Array\n",
    "\n",
    "#### Description\n",
    "\n",
    "From a given array, extract all the elements which are greater than 'm' and less than 'n'. Note: 'm' and 'n' are integer values provided as input.\n",
    "\n",
    "Input format:<br>\n",
    "A list of integers on line one<br>\n",
    "Integer 'm' on line two<br>\n",
    "Integer 'n' on line three<br>\n",
    "\n",
    "Output format:<br>\n",
    "1-D array containing integers greater than 'm' and smaller than 'n'.\n",
    "\n",
    "Sample input:\n",
    "[ 1, 5, 9, 12, 15, 7, 12, 9 ] (array) <br>\n",
    "6 (m)<br>\n",
    "12 (n)<br>\n",
    "\n",
    "Sample output:<br>\n",
    "[ 9 7 9 ]\n",
    "\n",
    "Sample input:<br>\n",
    "[ 1, 5, 9, 12, 15, 7, 12, 9 ]<br>\n",
    "12<br>\n",
    "6<br>\n",
    "\n",
    "Sample output:<br>\n",
    "[ ]"
   ]
  },
  {
   "cell_type": "code",
   "execution_count": 1,
   "id": "08bbcc0a-4cad-4a8f-92f5-979d5537e69a",
   "metadata": {},
   "outputs": [
    {
     "name": "stdin",
     "output_type": "stream",
     "text": [
      " 5,1,2,6,8,9,4,5\n",
      " 3\n",
      " 8\n"
     ]
    },
    {
     "name": "stdout",
     "output_type": "stream",
     "text": [
      "[5 6 4 5]\n"
     ]
    }
   ],
   "source": [
    "#take input here\n",
    "import ast \n",
    "input_list=ast.literal_eval(input())\n",
    "m=int(input())\n",
    "n=int(input())\n",
    "\n",
    "import numpy as np\n",
    "array_1 = np.array(input_list)\n",
    "#start writing your code from here\n",
    "final_array = array_1[(array_1 > m) & (array_1 < n)]\n",
    "\n",
    "print(final_array)"
   ]
  },
  {
   "cell_type": "code",
   "execution_count": null,
   "id": "3c44dd3c-2beb-4e5a-8f79-5ea89756d724",
   "metadata": {},
   "outputs": [],
   "source": []
  }
 ],
 "metadata": {
  "kernelspec": {
   "display_name": "Python (python_datascience_ai)",
   "language": "python",
   "name": "python_datascience_ai"
  },
  "language_info": {
   "codemirror_mode": {
    "name": "ipython",
    "version": 3
   },
   "file_extension": ".py",
   "mimetype": "text/x-python",
   "name": "python",
   "nbconvert_exporter": "python",
   "pygments_lexer": "ipython3",
   "version": "3.13.5"
  }
 },
 "nbformat": 4,
 "nbformat_minor": 5
}
