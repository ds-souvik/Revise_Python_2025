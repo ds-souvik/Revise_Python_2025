{
 "cells": [
  {
   "cell_type": "markdown",
   "id": "285f1d27-d524-4172-bb08-0334fe53cf9d",
   "metadata": {},
   "source": [
    "### Stacking arrays\n",
    "Description: Merge the three arrays provided to you to form a one 4x4 array.\n",
    "\n",
    "[Hint: Check the function np.transpose()]\n",
    "\n",
    "\n",
    "\n",
    "#### Input:\n",
    "\n",
    "Array 1: 3*3\n",
    "\n",
    "[[7, 13, 14]\n",
    "\n",
    "[18, 10, 17]\n",
    "\n",
    "[11, 12, 19]]\n",
    "\n",
    "\n",
    "\n",
    "Array 2: 1-D array\n",
    "\n",
    "[16, 6, 1]\n",
    "\n",
    "\n",
    "\n",
    "Array 3: 1*4 array\n",
    "\n",
    "[[5, 8, 4, 3]]\n",
    "\n",
    "\n",
    "\n",
    "#### Output:\n",
    "\n",
    "[[7 13 14 5]\n",
    "\n",
    "[18 10 17 8]\n",
    "\n",
    "[11 12 19 4]\n",
    "\n",
    "[16 6 1 3]]"
   ]
  },
  {
   "cell_type": "code",
   "execution_count": null,
   "id": "e3e26473-aae4-4155-a527-0056a7d65b45",
   "metadata": {},
   "outputs": [],
   "source": []
  },
  {
   "cell_type": "markdown",
   "id": "98d2d77d-9496-47c4-a5dc-abbfc3c6b25b",
   "metadata": {},
   "source": [
    "#### Solved using stack and reshape"
   ]
  },
  {
   "cell_type": "code",
   "execution_count": 2,
   "id": "f96ad2d1-c4e5-47f2-9a87-9fcff0c42142",
   "metadata": {},
   "outputs": [
    {
     "name": "stdout",
     "output_type": "stream",
     "text": [
      "[[ 7 13 14  5]\n",
      " [18 10 17  8]\n",
      " [11 12 19  4]\n",
      " [16  6  1  3]]\n"
     ]
    }
   ],
   "source": [
    "# Read the input\n",
    "import ast,sys\n",
    "input_str = sys.stdin.read()\n",
    "input_list = ast.literal_eval(\"[[[7, 13, 14], [18, 10, 17], [11, 12, 19]], [16, 6, 1], [[5, 8, 4, 3]]]\")\n",
    "list_1 = input_list[0]\n",
    "list_2 = input_list[1]\n",
    "list_3 = input_list[2]\n",
    "\n",
    "# Import NumPy\n",
    "import numpy as np\n",
    "\n",
    "# Write your code here\n",
    "final_array = np.hstack((np.vstack((np.array(list_1), np.array(list_2))), np.array(list_3).reshape((4,1))))\n",
    "print(final_array)"
   ]
  },
  {
   "cell_type": "markdown",
   "id": "a862a1d7-4ecf-4f22-a39c-2853547af674",
   "metadata": {},
   "source": [
    "#### solved using stack and transpose"
   ]
  },
  {
   "cell_type": "code",
   "execution_count": 7,
   "id": "fa4a933f-5c14-4281-99be-78cafd0625cd",
   "metadata": {},
   "outputs": [
    {
     "name": "stdout",
     "output_type": "stream",
     "text": [
      "[[ 7 13 14  5]\n",
      " [18 10 17  8]\n",
      " [11 12 19  4]\n",
      " [16  6  1  3]]\n"
     ]
    }
   ],
   "source": [
    "# Read the input\n",
    "import ast,sys\n",
    "input_str = sys.stdin.read()\n",
    "input_list = ast.literal_eval(\"[[[7, 13, 14], [18, 10, 17], [11, 12, 19]], [16, 6, 1], [[5, 8, 4, 3]]]\")\n",
    "list_1 = input_list[0]\n",
    "list_2 = input_list[1]\n",
    "list_3 = input_list[2]\n",
    "\n",
    "# Import NumPy\n",
    "import numpy as np\n",
    "# Write your code here\n",
    "final_array = np.transpose(np.vstack((np.transpose(np.vstack((np.array(list_1),np.array(list_2)))),np.array(list_3))))\n",
    "print(final_array)"
   ]
  },
  {
   "cell_type": "code",
   "execution_count": null,
   "id": "485758be-ed3e-4ff3-9359-e98623fc9db1",
   "metadata": {},
   "outputs": [],
   "source": []
  }
 ],
 "metadata": {
  "kernelspec": {
   "display_name": "Python (python_datascience_ai)",
   "language": "python",
   "name": "python_datascience_ai"
  },
  "language_info": {
   "codemirror_mode": {
    "name": "ipython",
    "version": 3
   },
   "file_extension": ".py",
   "mimetype": "text/x-python",
   "name": "python",
   "nbconvert_exporter": "python",
   "pygments_lexer": "ipython3",
   "version": "3.13.5"
  }
 },
 "nbformat": 4,
 "nbformat_minor": 5
}
