{
 "cells": [
  {
   "cell_type": "markdown",
   "id": "e18994bd-7f08-4b83-9cb5-7e09d1ffe7f7",
   "metadata": {},
   "source": [
    "### Create border array\n",
    "#### Description: Given a single integer n, create an (n x n) 2D array with 1 on the border and 0 on the inside.\n",
    "\n",
    "Note: Make sure the array is of type int.<br>\n",
    "\n",
    "Example:<br>\n",
    "Input 1:<br>\n",
    "4<br>\n",
    "Output 1:<br>\n",
    "[[1 1 1 1]<br>\n",
    "[1 0 0 1]<br>\n",
    "[1 0 0 1]<br>\n",
    "[1 1 1 1]]<br>\n",
    "Input 2:<br>\n",
    "2<br>\n",
    "Output 2:<br>\n",
    "[[1 1] <br>\n",
    " [1 1]] <br>\n",
    "\n",
    "Execution time limit<br>\n",
    "15 seconds<br>"
   ]
  },
  {
   "cell_type": "code",
   "execution_count": 1,
   "id": "fbc3aceb-cb51-4b39-b534-2cc4cbc18b72",
   "metadata": {},
   "outputs": [
    {
     "name": "stdin",
     "output_type": "stream",
     "text": [
      " 11\n"
     ]
    },
    {
     "name": "stdout",
     "output_type": "stream",
     "text": [
      "[[1 1 1 1 1 1 1 1 1 1 1]\n",
      " [1 0 0 0 0 0 0 0 0 0 1]\n",
      " [1 0 0 0 0 0 0 0 0 0 1]\n",
      " [1 0 0 0 0 0 0 0 0 0 1]\n",
      " [1 0 0 0 0 0 0 0 0 0 1]\n",
      " [1 0 0 0 0 0 0 0 0 0 1]\n",
      " [1 0 0 0 0 0 0 0 0 0 1]\n",
      " [1 0 0 0 0 0 0 0 0 0 1]\n",
      " [1 0 0 0 0 0 0 0 0 0 1]\n",
      " [1 0 0 0 0 0 0 0 0 0 1]\n",
      " [1 1 1 1 1 1 1 1 1 1 1]]\n"
     ]
    }
   ],
   "source": [
    "# Read the variable from STDIN\n",
    "n = int(input())\n",
    "\n",
    "import numpy as np\n",
    "\n",
    "array = np.zeros((n,n), dtype = 'int')\n",
    "\n",
    "array[0] = np.ones(n, dtype = 'int')\n",
    "array[:,0] = 1\n",
    "array[-1] = np.ones(n, dtype = 'int')\n",
    "array[:,-1] = 1\n",
    "\n",
    "print(array)"
   ]
  },
  {
   "cell_type": "code",
   "execution_count": null,
   "id": "14bf1556-2d62-452c-9776-b0450b280551",
   "metadata": {},
   "outputs": [],
   "source": []
  }
 ],
 "metadata": {
  "kernelspec": {
   "display_name": "Python (python_datascience_ai)",
   "language": "python",
   "name": "python_datascience_ai"
  },
  "language_info": {
   "codemirror_mode": {
    "name": "ipython",
    "version": 3
   },
   "file_extension": ".py",
   "mimetype": "text/x-python",
   "name": "python",
   "nbconvert_exporter": "python",
   "pygments_lexer": "ipython3",
   "version": "3.13.5"
  }
 },
 "nbformat": 4,
 "nbformat_minor": 5
}
