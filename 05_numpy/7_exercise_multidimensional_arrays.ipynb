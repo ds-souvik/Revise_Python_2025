{
 "cells": [
  {
   "cell_type": "markdown",
   "id": "4e1e6c94-95de-4eae-8af0-91041ee8a0b1",
   "metadata": {},
   "source": [
    "### Border Rows and Columns"
   ]
  },
  {
   "cell_type": "markdown",
   "id": "e7361bd3-0373-449d-b01f-2ecd5bf5cc91",
   "metadata": {},
   "source": [
    "#### Description :Extract all the border rows and columns from a 2-D array.\n",
    "\n",
    "#### Format:\n",
    "Input: A 2-D Python list <br>\n",
    "Output: Four NumPy arrays - First column of the input array, first row of the input array, last column of the input array, last row of the input array respectively. <br>\n",
    "\n",
    "Example: <br>\n",
    "Input 1: <br>\n",
    "[[11 12 13 14] <br>\n",
    " [21 22 23 24] <br>\n",
    " [31 32 33 34]] <br><br>\n",
    "Output 1: <br>\n",
    "[11 21 31] <br>\n",
    "[11 12 13 14] <br>\n",
    "[14 24 34] <br>\n",
    "[31 32 33 34] <br>\n",
    "Execution time limit"
   ]
  },
  {
   "cell_type": "code",
   "execution_count": 8,
   "id": "20ce440c-11ca-4ae5-8b15-61e5b34e695e",
   "metadata": {},
   "outputs": [
    {
     "name": "stdout",
     "output_type": "stream",
     "text": [
      "[11 21 31]\n",
      "[11 12 13 14]\n",
      "[14 24 34]\n",
      "[31 32 33 34]\n"
     ]
    }
   ],
   "source": [
    "# Read the input list\n",
    "import ast,sys\n",
    "input_list = [[11, 12, 13, 14],[21, 22, 23, 24],[31, 32, 33, 34]]\n",
    "\n",
    "import numpy as np\n",
    "\n",
    "# Convert the input list to a NumPy array\n",
    "array_2d =np.array(input_list)\n",
    "\n",
    "# Extract the first column, first row, last column and last row respectively using\n",
    "# appropriate indexing\n",
    "col_first = array_2d[:,0]\n",
    "row_first = array_2d[0]\n",
    "col_last = array_2d[:, -1]\n",
    "row_last = array_2d[-1]\n",
    "\n",
    "print(col_first)\n",
    "print(row_first)\n",
    "print(col_last)\n",
    "print(row_last)"
   ]
  },
  {
   "cell_type": "code",
   "execution_count": null,
   "id": "743cc80f-53b5-4c63-9fd0-3a259e20da38",
   "metadata": {},
   "outputs": [],
   "source": []
  }
 ],
 "metadata": {
  "kernelspec": {
   "display_name": "Python (python_datascience_ai)",
   "language": "python",
   "name": "python_datascience_ai"
  },
  "language_info": {
   "codemirror_mode": {
    "name": "ipython",
    "version": 3
   },
   "file_extension": ".py",
   "mimetype": "text/x-python",
   "name": "python",
   "nbconvert_exporter": "python",
   "pygments_lexer": "ipython3",
   "version": "3.13.5"
  }
 },
 "nbformat": 4,
 "nbformat_minor": 5
}
